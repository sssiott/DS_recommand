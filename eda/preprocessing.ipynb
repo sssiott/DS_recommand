{
 "cells": [
  {
   "cell_type": "code",
   "execution_count": 1,
   "metadata": {},
   "outputs": [],
   "source": [
    "import pandas as pd\n",
    "data_url = '../dataset/' #csv파일이 있는 경로 수정\n",
    "dataset = pd.read_csv(data_url + '2019-Oct.csv')"
   ]
  },
  {
   "cell_type": "markdown",
   "metadata": {},
   "source": [
    "# 데이터 살펴보기"
   ]
  },
  {
   "cell_type": "code",
   "execution_count": 2,
   "metadata": {},
   "outputs": [
    {
     "data": {
      "text/html": [
       "<div>\n",
       "<style scoped>\n",
       "    .dataframe tbody tr th:only-of-type {\n",
       "        vertical-align: middle;\n",
       "    }\n",
       "\n",
       "    .dataframe tbody tr th {\n",
       "        vertical-align: top;\n",
       "    }\n",
       "\n",
       "    .dataframe thead th {\n",
       "        text-align: right;\n",
       "    }\n",
       "</style>\n",
       "<table border=\"1\" class=\"dataframe\">\n",
       "  <thead>\n",
       "    <tr style=\"text-align: right;\">\n",
       "      <th></th>\n",
       "      <th>event_time</th>\n",
       "      <th>event_type</th>\n",
       "      <th>product_id</th>\n",
       "      <th>category_id</th>\n",
       "      <th>category_code</th>\n",
       "      <th>brand</th>\n",
       "      <th>price</th>\n",
       "      <th>user_id</th>\n",
       "      <th>user_session</th>\n",
       "    </tr>\n",
       "  </thead>\n",
       "  <tbody>\n",
       "    <tr>\n",
       "      <th>0</th>\n",
       "      <td>2019-10-01 00:00:00 UTC</td>\n",
       "      <td>view</td>\n",
       "      <td>44600062</td>\n",
       "      <td>2103807459595387724</td>\n",
       "      <td>NaN</td>\n",
       "      <td>shiseido</td>\n",
       "      <td>35.79</td>\n",
       "      <td>541312140</td>\n",
       "      <td>72d76fde-8bb3-4e00-8c23-a032dfed738c</td>\n",
       "    </tr>\n",
       "    <tr>\n",
       "      <th>1</th>\n",
       "      <td>2019-10-01 00:00:00 UTC</td>\n",
       "      <td>view</td>\n",
       "      <td>3900821</td>\n",
       "      <td>2053013552326770905</td>\n",
       "      <td>appliances.environment.water_heater</td>\n",
       "      <td>aqua</td>\n",
       "      <td>33.20</td>\n",
       "      <td>554748717</td>\n",
       "      <td>9333dfbd-b87a-4708-9857-6336556b0fcc</td>\n",
       "    </tr>\n",
       "    <tr>\n",
       "      <th>2</th>\n",
       "      <td>2019-10-01 00:00:01 UTC</td>\n",
       "      <td>view</td>\n",
       "      <td>17200506</td>\n",
       "      <td>2053013559792632471</td>\n",
       "      <td>furniture.living_room.sofa</td>\n",
       "      <td>NaN</td>\n",
       "      <td>543.10</td>\n",
       "      <td>519107250</td>\n",
       "      <td>566511c2-e2e3-422b-b695-cf8e6e792ca8</td>\n",
       "    </tr>\n",
       "    <tr>\n",
       "      <th>3</th>\n",
       "      <td>2019-10-01 00:00:01 UTC</td>\n",
       "      <td>view</td>\n",
       "      <td>1307067</td>\n",
       "      <td>2053013558920217191</td>\n",
       "      <td>computers.notebook</td>\n",
       "      <td>lenovo</td>\n",
       "      <td>251.74</td>\n",
       "      <td>550050854</td>\n",
       "      <td>7c90fc70-0e80-4590-96f3-13c02c18c713</td>\n",
       "    </tr>\n",
       "    <tr>\n",
       "      <th>4</th>\n",
       "      <td>2019-10-01 00:00:04 UTC</td>\n",
       "      <td>view</td>\n",
       "      <td>1004237</td>\n",
       "      <td>2053013555631882655</td>\n",
       "      <td>electronics.smartphone</td>\n",
       "      <td>apple</td>\n",
       "      <td>1081.98</td>\n",
       "      <td>535871217</td>\n",
       "      <td>c6bd7419-2748-4c56-95b4-8cec9ff8b80d</td>\n",
       "    </tr>\n",
       "  </tbody>\n",
       "</table>\n",
       "</div>"
      ],
      "text/plain": [
       "                event_time event_type  product_id          category_id  \\\n",
       "0  2019-10-01 00:00:00 UTC       view    44600062  2103807459595387724   \n",
       "1  2019-10-01 00:00:00 UTC       view     3900821  2053013552326770905   \n",
       "2  2019-10-01 00:00:01 UTC       view    17200506  2053013559792632471   \n",
       "3  2019-10-01 00:00:01 UTC       view     1307067  2053013558920217191   \n",
       "4  2019-10-01 00:00:04 UTC       view     1004237  2053013555631882655   \n",
       "\n",
       "                         category_code     brand    price    user_id  \\\n",
       "0                                  NaN  shiseido    35.79  541312140   \n",
       "1  appliances.environment.water_heater      aqua    33.20  554748717   \n",
       "2           furniture.living_room.sofa       NaN   543.10  519107250   \n",
       "3                   computers.notebook    lenovo   251.74  550050854   \n",
       "4               electronics.smartphone     apple  1081.98  535871217   \n",
       "\n",
       "                           user_session  \n",
       "0  72d76fde-8bb3-4e00-8c23-a032dfed738c  \n",
       "1  9333dfbd-b87a-4708-9857-6336556b0fcc  \n",
       "2  566511c2-e2e3-422b-b695-cf8e6e792ca8  \n",
       "3  7c90fc70-0e80-4590-96f3-13c02c18c713  \n",
       "4  c6bd7419-2748-4c56-95b4-8cec9ff8b80d  "
      ]
     },
     "execution_count": 2,
     "metadata": {},
     "output_type": "execute_result"
    }
   ],
   "source": [
    "dataset.head()"
   ]
  },
  {
   "cell_type": "code",
   "execution_count": 3,
   "metadata": {},
   "outputs": [
    {
     "name": "stdout",
     "output_type": "stream",
     "text": [
      "<class 'pandas.core.frame.DataFrame'>\n",
      "RangeIndex: 42448764 entries, 0 to 42448763\n",
      "Data columns (total 9 columns):\n",
      " #   Column         Dtype  \n",
      "---  ------         -----  \n",
      " 0   event_time     object \n",
      " 1   event_type     object \n",
      " 2   product_id     int64  \n",
      " 3   category_id    int64  \n",
      " 4   category_code  object \n",
      " 5   brand          object \n",
      " 6   price          float64\n",
      " 7   user_id        int64  \n",
      " 8   user_session   object \n",
      "dtypes: float64(1), int64(3), object(5)\n",
      "memory usage: 2.8+ GB\n"
     ]
    }
   ],
   "source": [
    "dataset.info()"
   ]
  },
  {
   "cell_type": "code",
   "execution_count": 4,
   "metadata": {},
   "outputs": [
    {
     "data": {
      "text/plain": [
       "event_time              0\n",
       "event_type              0\n",
       "product_id              0\n",
       "category_id             0\n",
       "category_code    13515609\n",
       "brand             6117080\n",
       "price                   0\n",
       "user_id                 0\n",
       "user_session            2\n",
       "dtype: int64"
      ]
     },
     "execution_count": 4,
     "metadata": {},
     "output_type": "execute_result"
    }
   ],
   "source": [
    "dataset.isnull().sum()"
   ]
  },
  {
   "cell_type": "markdown",
   "metadata": {},
   "source": [
    "### null값\n",
    "* category_code\n",
    "* brand\n",
    "* user_session\n",
    "---"
   ]
  },
  {
   "cell_type": "markdown",
   "metadata": {},
   "source": [
    "# 결측치"
   ]
  },
  {
   "cell_type": "markdown",
   "metadata": {},
   "source": [
    "### session의 결측치 처리"
   ]
  },
  {
   "cell_type": "code",
   "execution_count": 44,
   "metadata": {},
   "outputs": [],
   "source": [
    "cpy = dataset['user_session'].copy()"
   ]
  },
  {
   "cell_type": "code",
   "execution_count": 6,
   "metadata": {},
   "outputs": [
    {
     "data": {
      "text/plain": [
       "7157243     NaN\n",
       "33940774    NaN\n",
       "Name: user_session, dtype: object"
      ]
     },
     "execution_count": 6,
     "metadata": {},
     "output_type": "execute_result"
    }
   ],
   "source": [
    "cpy[cpy.isnull()]"
   ]
  },
  {
   "cell_type": "markdown",
   "metadata": {},
   "source": [
    "결측치가 있는 행 인덱스\n",
    "* 7157243\n",
    "* 33940774"
   ]
  },
  {
   "cell_type": "code",
   "execution_count": 7,
   "metadata": {},
   "outputs": [
    {
     "data": {
      "text/plain": [
       "event_time       2019-10-25 10:36:14 UTC\n",
       "event_type                          cart\n",
       "product_id                       1004767\n",
       "category_id          2053013555631882655\n",
       "category_code     electronics.smartphone\n",
       "brand                            samsung\n",
       "price                             246.52\n",
       "user_id                        549825742\n",
       "user_session                         NaN\n",
       "Name: 33940774, dtype: object"
      ]
     },
     "execution_count": 7,
     "metadata": {},
     "output_type": "execute_result"
    }
   ],
   "source": [
    "# dataset.iloc[33940774]"
   ]
  },
  {
   "cell_type": "code",
   "execution_count": 8,
   "metadata": {},
   "outputs": [
    {
     "data": {
      "text/html": [
       "<div>\n",
       "<style scoped>\n",
       "    .dataframe tbody tr th:only-of-type {\n",
       "        vertical-align: middle;\n",
       "    }\n",
       "\n",
       "    .dataframe tbody tr th {\n",
       "        vertical-align: top;\n",
       "    }\n",
       "\n",
       "    .dataframe thead th {\n",
       "        text-align: right;\n",
       "    }\n",
       "</style>\n",
       "<table border=\"1\" class=\"dataframe\">\n",
       "  <thead>\n",
       "    <tr style=\"text-align: right;\">\n",
       "      <th></th>\n",
       "      <th>event_time</th>\n",
       "      <th>event_type</th>\n",
       "      <th>product_id</th>\n",
       "      <th>category_id</th>\n",
       "      <th>category_code</th>\n",
       "      <th>brand</th>\n",
       "      <th>price</th>\n",
       "      <th>user_id</th>\n",
       "      <th>user_session</th>\n",
       "    </tr>\n",
       "  </thead>\n",
       "  <tbody>\n",
       "    <tr>\n",
       "      <th>7157243</th>\n",
       "      <td>2019-10-06 14:26:10 UTC</td>\n",
       "      <td>cart</td>\n",
       "      <td>1801723</td>\n",
       "      <td>2053013554415534427</td>\n",
       "      <td>electronics.video.tv</td>\n",
       "      <td>tcl</td>\n",
       "      <td>135.65</td>\n",
       "      <td>557388939</td>\n",
       "      <td>NaN</td>\n",
       "    </tr>\n",
       "    <tr>\n",
       "      <th>33940774</th>\n",
       "      <td>2019-10-25 10:36:14 UTC</td>\n",
       "      <td>cart</td>\n",
       "      <td>1004767</td>\n",
       "      <td>2053013555631882655</td>\n",
       "      <td>electronics.smartphone</td>\n",
       "      <td>samsung</td>\n",
       "      <td>246.52</td>\n",
       "      <td>549825742</td>\n",
       "      <td>NaN</td>\n",
       "    </tr>\n",
       "  </tbody>\n",
       "</table>\n",
       "</div>"
      ],
      "text/plain": [
       "                       event_time event_type  product_id          category_id  \\\n",
       "7157243   2019-10-06 14:26:10 UTC       cart     1801723  2053013554415534427   \n",
       "33940774  2019-10-25 10:36:14 UTC       cart     1004767  2053013555631882655   \n",
       "\n",
       "                   category_code    brand   price    user_id user_session  \n",
       "7157243     electronics.video.tv      tcl  135.65  557388939          NaN  \n",
       "33940774  electronics.smartphone  samsung  246.52  549825742          NaN  "
      ]
     },
     "execution_count": 8,
     "metadata": {},
     "output_type": "execute_result"
    }
   ],
   "source": [
    "# dataset.iloc[[7157243,33940774]]"
   ]
  },
  {
   "cell_type": "markdown",
   "metadata": {},
   "source": [
    "* 동일 id로 검색"
   ]
  },
  {
   "cell_type": "code",
   "execution_count": 9,
   "metadata": {},
   "outputs": [
    {
     "data": {
      "text/html": [
       "<div>\n",
       "<style scoped>\n",
       "    .dataframe tbody tr th:only-of-type {\n",
       "        vertical-align: middle;\n",
       "    }\n",
       "\n",
       "    .dataframe tbody tr th {\n",
       "        vertical-align: top;\n",
       "    }\n",
       "\n",
       "    .dataframe thead th {\n",
       "        text-align: right;\n",
       "    }\n",
       "</style>\n",
       "<table border=\"1\" class=\"dataframe\">\n",
       "  <thead>\n",
       "    <tr style=\"text-align: right;\">\n",
       "      <th></th>\n",
       "      <th>event_time</th>\n",
       "      <th>event_type</th>\n",
       "      <th>product_id</th>\n",
       "      <th>category_id</th>\n",
       "      <th>category_code</th>\n",
       "      <th>brand</th>\n",
       "      <th>price</th>\n",
       "      <th>user_id</th>\n",
       "      <th>user_session</th>\n",
       "    </tr>\n",
       "  </thead>\n",
       "  <tbody>\n",
       "    <tr>\n",
       "      <th>7149567</th>\n",
       "      <td>2019-10-06 14:20:18 UTC</td>\n",
       "      <td>view</td>\n",
       "      <td>50700029</td>\n",
       "      <td>2175419595093967522</td>\n",
       "      <td>NaN</td>\n",
       "      <td>yema</td>\n",
       "      <td>48.65</td>\n",
       "      <td>557388939</td>\n",
       "      <td>69e2aec8-4022-45cc-9fb0-48300f6b018e</td>\n",
       "    </tr>\n",
       "    <tr>\n",
       "      <th>7151921</th>\n",
       "      <td>2019-10-06 14:22:05 UTC</td>\n",
       "      <td>view</td>\n",
       "      <td>1801766</td>\n",
       "      <td>2053013554415534427</td>\n",
       "      <td>electronics.video.tv</td>\n",
       "      <td>artel</td>\n",
       "      <td>150.43</td>\n",
       "      <td>557388939</td>\n",
       "      <td>e24814e3-6587-4f74-8f92-6ac44b9b94ba</td>\n",
       "    </tr>\n",
       "    <tr>\n",
       "      <th>7153724</th>\n",
       "      <td>2019-10-06 14:23:25 UTC</td>\n",
       "      <td>cart</td>\n",
       "      <td>1801766</td>\n",
       "      <td>2053013554415534427</td>\n",
       "      <td>electronics.video.tv</td>\n",
       "      <td>artel</td>\n",
       "      <td>150.43</td>\n",
       "      <td>557388939</td>\n",
       "      <td>e24814e3-6587-4f74-8f92-6ac44b9b94ba</td>\n",
       "    </tr>\n",
       "    <tr>\n",
       "      <th>7154261</th>\n",
       "      <td>2019-10-06 14:23:50 UTC</td>\n",
       "      <td>view</td>\n",
       "      <td>1801766</td>\n",
       "      <td>2053013554415534427</td>\n",
       "      <td>electronics.video.tv</td>\n",
       "      <td>artel</td>\n",
       "      <td>150.43</td>\n",
       "      <td>557388939</td>\n",
       "      <td>27eb4e3f-4951-41f5-9ca1-2c8ea537215b</td>\n",
       "    </tr>\n",
       "    <tr>\n",
       "      <th>7156089</th>\n",
       "      <td>2019-10-06 14:25:18 UTC</td>\n",
       "      <td>view</td>\n",
       "      <td>1801723</td>\n",
       "      <td>2053013554415534427</td>\n",
       "      <td>electronics.video.tv</td>\n",
       "      <td>tcl</td>\n",
       "      <td>135.65</td>\n",
       "      <td>557388939</td>\n",
       "      <td>9c11ac2d-5c56-4994-87e4-ea077ab0ab45</td>\n",
       "    </tr>\n",
       "    <tr>\n",
       "      <th>7157243</th>\n",
       "      <td>2019-10-06 14:26:10 UTC</td>\n",
       "      <td>cart</td>\n",
       "      <td>1801723</td>\n",
       "      <td>2053013554415534427</td>\n",
       "      <td>electronics.video.tv</td>\n",
       "      <td>tcl</td>\n",
       "      <td>135.65</td>\n",
       "      <td>557388939</td>\n",
       "      <td>NaN</td>\n",
       "    </tr>\n",
       "    <tr>\n",
       "      <th>8123931</th>\n",
       "      <td>2019-10-07 10:15:39 UTC</td>\n",
       "      <td>view</td>\n",
       "      <td>1801723</td>\n",
       "      <td>2053013554415534427</td>\n",
       "      <td>electronics.video.tv</td>\n",
       "      <td>tcl</td>\n",
       "      <td>135.65</td>\n",
       "      <td>557388939</td>\n",
       "      <td>083ceaa9-32d0-4e45-a67c-40bfaba0a275</td>\n",
       "    </tr>\n",
       "  </tbody>\n",
       "</table>\n",
       "</div>"
      ],
      "text/plain": [
       "                      event_time event_type  product_id          category_id  \\\n",
       "7149567  2019-10-06 14:20:18 UTC       view    50700029  2175419595093967522   \n",
       "7151921  2019-10-06 14:22:05 UTC       view     1801766  2053013554415534427   \n",
       "7153724  2019-10-06 14:23:25 UTC       cart     1801766  2053013554415534427   \n",
       "7154261  2019-10-06 14:23:50 UTC       view     1801766  2053013554415534427   \n",
       "7156089  2019-10-06 14:25:18 UTC       view     1801723  2053013554415534427   \n",
       "7157243  2019-10-06 14:26:10 UTC       cart     1801723  2053013554415534427   \n",
       "8123931  2019-10-07 10:15:39 UTC       view     1801723  2053013554415534427   \n",
       "\n",
       "                category_code  brand   price    user_id  \\\n",
       "7149567                   NaN   yema   48.65  557388939   \n",
       "7151921  electronics.video.tv  artel  150.43  557388939   \n",
       "7153724  electronics.video.tv  artel  150.43  557388939   \n",
       "7154261  electronics.video.tv  artel  150.43  557388939   \n",
       "7156089  electronics.video.tv    tcl  135.65  557388939   \n",
       "7157243  electronics.video.tv    tcl  135.65  557388939   \n",
       "8123931  electronics.video.tv    tcl  135.65  557388939   \n",
       "\n",
       "                                 user_session  \n",
       "7149567  69e2aec8-4022-45cc-9fb0-48300f6b018e  \n",
       "7151921  e24814e3-6587-4f74-8f92-6ac44b9b94ba  \n",
       "7153724  e24814e3-6587-4f74-8f92-6ac44b9b94ba  \n",
       "7154261  27eb4e3f-4951-41f5-9ca1-2c8ea537215b  \n",
       "7156089  9c11ac2d-5c56-4994-87e4-ea077ab0ab45  \n",
       "7157243                                   NaN  \n",
       "8123931  083ceaa9-32d0-4e45-a67c-40bfaba0a275  "
      ]
     },
     "execution_count": 9,
     "metadata": {},
     "output_type": "execute_result"
    }
   ],
   "source": [
    "# dataset[dataset['user_id'] == 557388939]"
   ]
  },
  {
   "cell_type": "code",
   "execution_count": 10,
   "metadata": {},
   "outputs": [
    {
     "data": {
      "text/html": [
       "<div>\n",
       "<style scoped>\n",
       "    .dataframe tbody tr th:only-of-type {\n",
       "        vertical-align: middle;\n",
       "    }\n",
       "\n",
       "    .dataframe tbody tr th {\n",
       "        vertical-align: top;\n",
       "    }\n",
       "\n",
       "    .dataframe thead th {\n",
       "        text-align: right;\n",
       "    }\n",
       "</style>\n",
       "<table border=\"1\" class=\"dataframe\">\n",
       "  <thead>\n",
       "    <tr style=\"text-align: right;\">\n",
       "      <th></th>\n",
       "      <th>event_time</th>\n",
       "      <th>event_type</th>\n",
       "      <th>product_id</th>\n",
       "      <th>category_id</th>\n",
       "      <th>category_code</th>\n",
       "      <th>brand</th>\n",
       "      <th>price</th>\n",
       "      <th>user_id</th>\n",
       "      <th>user_session</th>\n",
       "    </tr>\n",
       "  </thead>\n",
       "  <tbody>\n",
       "    <tr>\n",
       "      <th>33820866</th>\n",
       "      <td>2019-10-25 09:01:50 UTC</td>\n",
       "      <td>view</td>\n",
       "      <td>1004767</td>\n",
       "      <td>2053013555631882655</td>\n",
       "      <td>electronics.smartphone</td>\n",
       "      <td>samsung</td>\n",
       "      <td>246.52</td>\n",
       "      <td>549825742</td>\n",
       "      <td>aac8b299-4355-4c25-bbfe-c0369f19a3ce</td>\n",
       "    </tr>\n",
       "    <tr>\n",
       "      <th>33834071</th>\n",
       "      <td>2019-10-25 09:12:12 UTC</td>\n",
       "      <td>cart</td>\n",
       "      <td>1004767</td>\n",
       "      <td>2053013555631882655</td>\n",
       "      <td>electronics.smartphone</td>\n",
       "      <td>samsung</td>\n",
       "      <td>246.52</td>\n",
       "      <td>549825742</td>\n",
       "      <td>aac8b299-4355-4c25-bbfe-c0369f19a3ce</td>\n",
       "    </tr>\n",
       "    <tr>\n",
       "      <th>33834776</th>\n",
       "      <td>2019-10-25 09:12:42 UTC</td>\n",
       "      <td>cart</td>\n",
       "      <td>1004767</td>\n",
       "      <td>2053013555631882655</td>\n",
       "      <td>electronics.smartphone</td>\n",
       "      <td>samsung</td>\n",
       "      <td>246.52</td>\n",
       "      <td>549825742</td>\n",
       "      <td>aac8b299-4355-4c25-bbfe-c0369f19a3ce</td>\n",
       "    </tr>\n",
       "    <tr>\n",
       "      <th>33835027</th>\n",
       "      <td>2019-10-25 09:12:52 UTC</td>\n",
       "      <td>cart</td>\n",
       "      <td>1004767</td>\n",
       "      <td>2053013555631882655</td>\n",
       "      <td>electronics.smartphone</td>\n",
       "      <td>samsung</td>\n",
       "      <td>246.52</td>\n",
       "      <td>549825742</td>\n",
       "      <td>aac8b299-4355-4c25-bbfe-c0369f19a3ce</td>\n",
       "    </tr>\n",
       "    <tr>\n",
       "      <th>33840806</th>\n",
       "      <td>2019-10-25 09:17:05 UTC</td>\n",
       "      <td>cart</td>\n",
       "      <td>1004767</td>\n",
       "      <td>2053013555631882655</td>\n",
       "      <td>electronics.smartphone</td>\n",
       "      <td>samsung</td>\n",
       "      <td>246.52</td>\n",
       "      <td>549825742</td>\n",
       "      <td>aac8b299-4355-4c25-bbfe-c0369f19a3ce</td>\n",
       "    </tr>\n",
       "    <tr>\n",
       "      <th>33881748</th>\n",
       "      <td>2019-10-25 09:49:33 UTC</td>\n",
       "      <td>view</td>\n",
       "      <td>1004433</td>\n",
       "      <td>2053013555631882655</td>\n",
       "      <td>electronics.smartphone</td>\n",
       "      <td>samsung</td>\n",
       "      <td>257.15</td>\n",
       "      <td>549825742</td>\n",
       "      <td>56fc550f-2ac9-4baf-a7eb-1d40320560a8</td>\n",
       "    </tr>\n",
       "    <tr>\n",
       "      <th>33882627</th>\n",
       "      <td>2019-10-25 09:50:12 UTC</td>\n",
       "      <td>view</td>\n",
       "      <td>1004434</td>\n",
       "      <td>2053013555631882655</td>\n",
       "      <td>electronics.smartphone</td>\n",
       "      <td>samsung</td>\n",
       "      <td>257.15</td>\n",
       "      <td>549825742</td>\n",
       "      <td>56fc550f-2ac9-4baf-a7eb-1d40320560a8</td>\n",
       "    </tr>\n",
       "    <tr>\n",
       "      <th>33884831</th>\n",
       "      <td>2019-10-25 09:51:50 UTC</td>\n",
       "      <td>view</td>\n",
       "      <td>1003548</td>\n",
       "      <td>2053013555631882655</td>\n",
       "      <td>electronics.smartphone</td>\n",
       "      <td>samsung</td>\n",
       "      <td>282.84</td>\n",
       "      <td>549825742</td>\n",
       "      <td>56fc550f-2ac9-4baf-a7eb-1d40320560a8</td>\n",
       "    </tr>\n",
       "    <tr>\n",
       "      <th>33886045</th>\n",
       "      <td>2019-10-25 09:52:44 UTC</td>\n",
       "      <td>view</td>\n",
       "      <td>1000978</td>\n",
       "      <td>2053013555631882655</td>\n",
       "      <td>electronics.smartphone</td>\n",
       "      <td>samsung</td>\n",
       "      <td>333.49</td>\n",
       "      <td>549825742</td>\n",
       "      <td>56fc550f-2ac9-4baf-a7eb-1d40320560a8</td>\n",
       "    </tr>\n",
       "    <tr>\n",
       "      <th>33886865</th>\n",
       "      <td>2019-10-25 09:53:22 UTC</td>\n",
       "      <td>view</td>\n",
       "      <td>1004990</td>\n",
       "      <td>2053013555631882655</td>\n",
       "      <td>electronics.smartphone</td>\n",
       "      <td>oppo</td>\n",
       "      <td>257.38</td>\n",
       "      <td>549825742</td>\n",
       "      <td>56fc550f-2ac9-4baf-a7eb-1d40320560a8</td>\n",
       "    </tr>\n",
       "    <tr>\n",
       "      <th>33940774</th>\n",
       "      <td>2019-10-25 10:36:14 UTC</td>\n",
       "      <td>cart</td>\n",
       "      <td>1004767</td>\n",
       "      <td>2053013555631882655</td>\n",
       "      <td>electronics.smartphone</td>\n",
       "      <td>samsung</td>\n",
       "      <td>246.52</td>\n",
       "      <td>549825742</td>\n",
       "      <td>NaN</td>\n",
       "    </tr>\n",
       "  </tbody>\n",
       "</table>\n",
       "</div>"
      ],
      "text/plain": [
       "                       event_time event_type  product_id          category_id  \\\n",
       "33820866  2019-10-25 09:01:50 UTC       view     1004767  2053013555631882655   \n",
       "33834071  2019-10-25 09:12:12 UTC       cart     1004767  2053013555631882655   \n",
       "33834776  2019-10-25 09:12:42 UTC       cart     1004767  2053013555631882655   \n",
       "33835027  2019-10-25 09:12:52 UTC       cart     1004767  2053013555631882655   \n",
       "33840806  2019-10-25 09:17:05 UTC       cart     1004767  2053013555631882655   \n",
       "33881748  2019-10-25 09:49:33 UTC       view     1004433  2053013555631882655   \n",
       "33882627  2019-10-25 09:50:12 UTC       view     1004434  2053013555631882655   \n",
       "33884831  2019-10-25 09:51:50 UTC       view     1003548  2053013555631882655   \n",
       "33886045  2019-10-25 09:52:44 UTC       view     1000978  2053013555631882655   \n",
       "33886865  2019-10-25 09:53:22 UTC       view     1004990  2053013555631882655   \n",
       "33940774  2019-10-25 10:36:14 UTC       cart     1004767  2053013555631882655   \n",
       "\n",
       "                   category_code    brand   price    user_id  \\\n",
       "33820866  electronics.smartphone  samsung  246.52  549825742   \n",
       "33834071  electronics.smartphone  samsung  246.52  549825742   \n",
       "33834776  electronics.smartphone  samsung  246.52  549825742   \n",
       "33835027  electronics.smartphone  samsung  246.52  549825742   \n",
       "33840806  electronics.smartphone  samsung  246.52  549825742   \n",
       "33881748  electronics.smartphone  samsung  257.15  549825742   \n",
       "33882627  electronics.smartphone  samsung  257.15  549825742   \n",
       "33884831  electronics.smartphone  samsung  282.84  549825742   \n",
       "33886045  electronics.smartphone  samsung  333.49  549825742   \n",
       "33886865  electronics.smartphone     oppo  257.38  549825742   \n",
       "33940774  electronics.smartphone  samsung  246.52  549825742   \n",
       "\n",
       "                                  user_session  \n",
       "33820866  aac8b299-4355-4c25-bbfe-c0369f19a3ce  \n",
       "33834071  aac8b299-4355-4c25-bbfe-c0369f19a3ce  \n",
       "33834776  aac8b299-4355-4c25-bbfe-c0369f19a3ce  \n",
       "33835027  aac8b299-4355-4c25-bbfe-c0369f19a3ce  \n",
       "33840806  aac8b299-4355-4c25-bbfe-c0369f19a3ce  \n",
       "33881748  56fc550f-2ac9-4baf-a7eb-1d40320560a8  \n",
       "33882627  56fc550f-2ac9-4baf-a7eb-1d40320560a8  \n",
       "33884831  56fc550f-2ac9-4baf-a7eb-1d40320560a8  \n",
       "33886045  56fc550f-2ac9-4baf-a7eb-1d40320560a8  \n",
       "33886865  56fc550f-2ac9-4baf-a7eb-1d40320560a8  \n",
       "33940774                                   NaN  "
      ]
     },
     "execution_count": 10,
     "metadata": {},
     "output_type": "execute_result"
    }
   ],
   "source": [
    "# dataset[dataset['user_id'] == 549825742]"
   ]
  },
  {
   "cell_type": "markdown",
   "metadata": {},
   "source": [
    "* 두 결측치 모두 동일 날짜에 이벤트가 이루어지고 이전 이벤트와 시간이 유의미할만큼 차이가 없다고 판단해 이전 이벤트의 세션값과 동일하게 대치함"
   ]
  },
  {
   "cell_type": "code",
   "execution_count": 8,
   "metadata": {},
   "outputs": [],
   "source": [
    "cpy.iloc[7157243] = '9c11ac2d-5c56-4994-87e4-ea077ab0ab45'"
   ]
  },
  {
   "cell_type": "code",
   "execution_count": 9,
   "metadata": {},
   "outputs": [],
   "source": [
    "cpy.iloc[33940774] = '56fc550f-2ac9-4baf-a7eb-1d40320560a8'"
   ]
  },
  {
   "cell_type": "code",
   "execution_count": 10,
   "metadata": {},
   "outputs": [],
   "source": [
    "dataset['user_session'] = cpy"
   ]
  },
  {
   "cell_type": "code",
   "execution_count": 11,
   "metadata": {},
   "outputs": [
    {
     "data": {
      "text/plain": [
       "0"
      ]
     },
     "execution_count": 11,
     "metadata": {},
     "output_type": "execute_result"
    }
   ],
   "source": [
    "dataset['user_session'].isnull().sum()"
   ]
  },
  {
   "cell_type": "markdown",
   "metadata": {},
   "source": [
    "## brand 결측치"
   ]
  },
  {
   "cell_type": "code",
   "execution_count": 12,
   "metadata": {},
   "outputs": [],
   "source": [
    "cpy = dataset[['product_id', 'brand']].copy()"
   ]
  },
  {
   "cell_type": "code",
   "execution_count": 21,
   "metadata": {},
   "outputs": [
    {
     "data": {
      "text/html": [
       "<div>\n",
       "<style scoped>\n",
       "    .dataframe tbody tr th:only-of-type {\n",
       "        vertical-align: middle;\n",
       "    }\n",
       "\n",
       "    .dataframe tbody tr th {\n",
       "        vertical-align: top;\n",
       "    }\n",
       "\n",
       "    .dataframe thead th {\n",
       "        text-align: right;\n",
       "    }\n",
       "</style>\n",
       "<table border=\"1\" class=\"dataframe\">\n",
       "  <thead>\n",
       "    <tr style=\"text-align: right;\">\n",
       "      <th></th>\n",
       "      <th>product_id</th>\n",
       "      <th>brand</th>\n",
       "    </tr>\n",
       "  </thead>\n",
       "  <tbody>\n",
       "    <tr>\n",
       "      <th>0</th>\n",
       "      <td>44600062</td>\n",
       "      <td>shiseido</td>\n",
       "    </tr>\n",
       "    <tr>\n",
       "      <th>1</th>\n",
       "      <td>3900821</td>\n",
       "      <td>aqua</td>\n",
       "    </tr>\n",
       "    <tr>\n",
       "      <th>2</th>\n",
       "      <td>17200506</td>\n",
       "      <td>NaN</td>\n",
       "    </tr>\n",
       "    <tr>\n",
       "      <th>3</th>\n",
       "      <td>1307067</td>\n",
       "      <td>lenovo</td>\n",
       "    </tr>\n",
       "    <tr>\n",
       "      <th>4</th>\n",
       "      <td>1004237</td>\n",
       "      <td>apple</td>\n",
       "    </tr>\n",
       "    <tr>\n",
       "      <th>...</th>\n",
       "      <td>...</td>\n",
       "      <td>...</td>\n",
       "    </tr>\n",
       "    <tr>\n",
       "      <th>42448759</th>\n",
       "      <td>2300275</td>\n",
       "      <td>gopro</td>\n",
       "    </tr>\n",
       "    <tr>\n",
       "      <th>42448760</th>\n",
       "      <td>10800172</td>\n",
       "      <td>redmond</td>\n",
       "    </tr>\n",
       "    <tr>\n",
       "      <th>42448761</th>\n",
       "      <td>5701038</td>\n",
       "      <td>kenwood</td>\n",
       "    </tr>\n",
       "    <tr>\n",
       "      <th>42448762</th>\n",
       "      <td>21407424</td>\n",
       "      <td>tissot</td>\n",
       "    </tr>\n",
       "    <tr>\n",
       "      <th>42448763</th>\n",
       "      <td>13300120</td>\n",
       "      <td>swisshome</td>\n",
       "    </tr>\n",
       "  </tbody>\n",
       "</table>\n",
       "<p>42448764 rows × 2 columns</p>\n",
       "</div>"
      ],
      "text/plain": [
       "          product_id      brand\n",
       "0           44600062   shiseido\n",
       "1            3900821       aqua\n",
       "2           17200506        NaN\n",
       "3            1307067     lenovo\n",
       "4            1004237      apple\n",
       "...              ...        ...\n",
       "42448759     2300275      gopro\n",
       "42448760    10800172    redmond\n",
       "42448761     5701038    kenwood\n",
       "42448762    21407424     tissot\n",
       "42448763    13300120  swisshome\n",
       "\n",
       "[42448764 rows x 2 columns]"
      ]
     },
     "execution_count": 21,
     "metadata": {},
     "output_type": "execute_result"
    }
   ],
   "source": [
    "cpy"
   ]
  },
  {
   "cell_type": "code",
   "execution_count": 14,
   "metadata": {},
   "outputs": [
    {
     "data": {
      "text/plain": [
       "Int64Index([ 1004856,  1004767,  1005115,  1004833,  1004249,  1004870,\n",
       "             1005105,  4804056,  1002544,  5100816,\n",
       "            ...\n",
       "            27800173,  5100726, 24800145,  4500512, 15400191, 12704418,\n",
       "             9002880, 11900275, 50300306, 19000980],\n",
       "           dtype='int64', length=166794)"
      ]
     },
     "execution_count": 14,
     "metadata": {},
     "output_type": "execute_result"
    }
   ],
   "source": [
    "cpy['product_id'].value_counts().index"
   ]
  },
  {
   "cell_type": "markdown",
   "metadata": {},
   "source": [
    "* product_id 개수 166794"
   ]
  },
  {
   "cell_type": "code",
   "execution_count": 15,
   "metadata": {},
   "outputs": [],
   "source": [
    "cpy_product_id = cpy.sort_values('product_id').drop_duplicates(keep='first').copy()"
   ]
  },
  {
   "cell_type": "markdown",
   "metadata": {},
   "source": [
    "* product_id 중 중복된 id 제거, id가 중복되더라도 브랜드명이 없다면 유지"
   ]
  },
  {
   "cell_type": "code",
   "execution_count": 16,
   "metadata": {},
   "outputs": [],
   "source": [
    "dict_id = {}\n",
    "for id, brand in zip(cpy_product_id['product_id'],cpy_product_id['brand']):\n",
    "    if id in dict_id:\n",
    "        continue\n",
    "    else:\n",
    "        dict_id[id] = brand"
   ]
  },
  {
   "cell_type": "code",
   "execution_count": 26,
   "metadata": {},
   "outputs": [
    {
     "data": {
      "text/plain": [
       "166794"
      ]
     },
     "execution_count": 26,
     "metadata": {},
     "output_type": "execute_result"
    }
   ],
   "source": [
    "# 고유한 product_id와 brand명\n",
    "len(dict_id)"
   ]
  },
  {
   "cell_type": "code",
   "execution_count": 27,
   "metadata": {},
   "outputs": [],
   "source": [
    "for i in range(len(cpy)):\n",
    "    if type(cpy.loc[i,'brand']) != str:\n",
    "        cpy.loc[i,'brand'] = dict_id[cpy.loc[i,'product_id']]\n"
   ]
  },
  {
   "cell_type": "code",
   "execution_count": 28,
   "metadata": {},
   "outputs": [
    {
     "data": {
      "text/plain": [
       "product_id          0\n",
       "brand         6039215\n",
       "dtype: int64"
      ]
     },
     "execution_count": 28,
     "metadata": {},
     "output_type": "execute_result"
    }
   ],
   "source": [
    "cpy.isnull().sum()"
   ]
  },
  {
   "cell_type": "code",
   "execution_count": 29,
   "metadata": {},
   "outputs": [],
   "source": [
    "cpy['brand'].fillna('etc',inplace=True)"
   ]
  },
  {
   "cell_type": "code",
   "execution_count": 30,
   "metadata": {},
   "outputs": [],
   "source": [
    "dataset['brand'] = cpy['brand']"
   ]
  },
  {
   "cell_type": "markdown",
   "metadata": {},
   "source": [
    "## 카테고리 코드"
   ]
  },
  {
   "cell_type": "code",
   "execution_count": 31,
   "metadata": {},
   "outputs": [
    {
     "data": {
      "text/plain": [
       "electronics.smartphone          11507231\n",
       "electronics.clocks               1311033\n",
       "computers.notebook               1137623\n",
       "electronics.video.tv             1113750\n",
       "electronics.audio.headphone      1100188\n",
       "                                  ...   \n",
       "construction.tools.soldering         632\n",
       "apparel.shorts                       632\n",
       "apparel.jacket                       436\n",
       "auto.accessories.anti_freeze         308\n",
       "country_yard.furniture.bench         190\n",
       "Name: category_code, Length: 126, dtype: int64"
      ]
     },
     "execution_count": 31,
     "metadata": {},
     "output_type": "execute_result"
    }
   ],
   "source": [
    "dataset['category_code'].value_counts()"
   ]
  },
  {
   "cell_type": "code",
   "execution_count": 32,
   "metadata": {},
   "outputs": [],
   "source": [
    "cpy = dataset[['category_id','category_code']].copy()"
   ]
  },
  {
   "cell_type": "code",
   "execution_count": 33,
   "metadata": {},
   "outputs": [
    {
     "data": {
      "text/plain": [
       "category_id             0\n",
       "category_code    13515609\n",
       "dtype: int64"
      ]
     },
     "execution_count": 33,
     "metadata": {},
     "output_type": "execute_result"
    }
   ],
   "source": [
    "cpy.isnull().sum()"
   ]
  },
  {
   "cell_type": "code",
   "execution_count": 34,
   "metadata": {},
   "outputs": [
    {
     "data": {
      "text/plain": [
       "2053013555631882655    11507231\n",
       "2053013553559896355     1888744\n",
       "2053013558920217191     1130645\n",
       "2053013554415534427     1105635\n",
       "2053013554658804075     1100188\n",
       "                         ...   \n",
       "2053013555690602915           4\n",
       "2053013560388223675           3\n",
       "2053013559381590653           2\n",
       "2146306510567768475           1\n",
       "2145727308156108933           1\n",
       "Name: category_id, Length: 624, dtype: int64"
      ]
     },
     "execution_count": 34,
     "metadata": {},
     "output_type": "execute_result"
    }
   ],
   "source": [
    "cpy['category_id'].value_counts()"
   ]
  },
  {
   "cell_type": "code",
   "execution_count": 35,
   "metadata": {},
   "outputs": [],
   "source": [
    "cpy_category_id = cpy.sort_values('category_id').drop_duplicates()"
   ]
  },
  {
   "cell_type": "code",
   "execution_count": 36,
   "metadata": {},
   "outputs": [],
   "source": [
    "dict_id = {}\n",
    "for id, code in zip(cpy_category_id['category_id'],cpy_category_id['category_code']):\n",
    "    if id in dict_id:\n",
    "        continue\n",
    "    else:\n",
    "        dict_id[id] = code"
   ]
  },
  {
   "cell_type": "code",
   "execution_count": 37,
   "metadata": {},
   "outputs": [],
   "source": [
    "for i in range(len(cpy)):\n",
    "    if type(cpy.loc[i,'category_code']) != str:\n",
    "        cpy.loc[i,'category_code'] = dict_id[cpy.loc[i,'category_id']]"
   ]
  },
  {
   "cell_type": "code",
   "execution_count": 38,
   "metadata": {},
   "outputs": [
    {
     "data": {
      "text/plain": [
       "category_id             0\n",
       "category_code    13515609\n",
       "dtype: int64"
      ]
     },
     "execution_count": 38,
     "metadata": {},
     "output_type": "execute_result"
    }
   ],
   "source": [
    "cpy.isnull().sum()"
   ]
  },
  {
   "cell_type": "markdown",
   "metadata": {},
   "source": [
    "* id에 연결된 code가 모두 null"
   ]
  },
  {
   "cell_type": "code",
   "execution_count": 39,
   "metadata": {},
   "outputs": [],
   "source": [
    "cpy.fillna('empty',inplace=True)"
   ]
  },
  {
   "cell_type": "code",
   "execution_count": 40,
   "metadata": {},
   "outputs": [
    {
     "data": {
      "text/html": [
       "<div>\n",
       "<style scoped>\n",
       "    .dataframe tbody tr th:only-of-type {\n",
       "        vertical-align: middle;\n",
       "    }\n",
       "\n",
       "    .dataframe tbody tr th {\n",
       "        vertical-align: top;\n",
       "    }\n",
       "\n",
       "    .dataframe thead th {\n",
       "        text-align: right;\n",
       "    }\n",
       "</style>\n",
       "<table border=\"1\" class=\"dataframe\">\n",
       "  <thead>\n",
       "    <tr style=\"text-align: right;\">\n",
       "      <th></th>\n",
       "      <th>category_id</th>\n",
       "      <th>category_code</th>\n",
       "    </tr>\n",
       "  </thead>\n",
       "  <tbody>\n",
       "    <tr>\n",
       "      <th>0</th>\n",
       "      <td>2103807459595387724</td>\n",
       "      <td>empty</td>\n",
       "    </tr>\n",
       "    <tr>\n",
       "      <th>1</th>\n",
       "      <td>2053013552326770905</td>\n",
       "      <td>appliances.environment.water_heater</td>\n",
       "    </tr>\n",
       "    <tr>\n",
       "      <th>2</th>\n",
       "      <td>2053013559792632471</td>\n",
       "      <td>furniture.living_room.sofa</td>\n",
       "    </tr>\n",
       "    <tr>\n",
       "      <th>3</th>\n",
       "      <td>2053013558920217191</td>\n",
       "      <td>computers.notebook</td>\n",
       "    </tr>\n",
       "    <tr>\n",
       "      <th>4</th>\n",
       "      <td>2053013555631882655</td>\n",
       "      <td>electronics.smartphone</td>\n",
       "    </tr>\n",
       "    <tr>\n",
       "      <th>...</th>\n",
       "      <td>...</td>\n",
       "      <td>...</td>\n",
       "    </tr>\n",
       "    <tr>\n",
       "      <th>42448759</th>\n",
       "      <td>2053013560530830019</td>\n",
       "      <td>electronics.camera.video</td>\n",
       "    </tr>\n",
       "    <tr>\n",
       "      <th>42448760</th>\n",
       "      <td>2053013554994348409</td>\n",
       "      <td>empty</td>\n",
       "    </tr>\n",
       "    <tr>\n",
       "      <th>42448761</th>\n",
       "      <td>2053013553970938175</td>\n",
       "      <td>auto.accessories.player</td>\n",
       "    </tr>\n",
       "    <tr>\n",
       "      <th>42448762</th>\n",
       "      <td>2053013561579406073</td>\n",
       "      <td>electronics.clocks</td>\n",
       "    </tr>\n",
       "    <tr>\n",
       "      <th>42448763</th>\n",
       "      <td>2053013557166998015</td>\n",
       "      <td>empty</td>\n",
       "    </tr>\n",
       "  </tbody>\n",
       "</table>\n",
       "<p>42448764 rows × 2 columns</p>\n",
       "</div>"
      ],
      "text/plain": [
       "                  category_id                        category_code\n",
       "0         2103807459595387724                                empty\n",
       "1         2053013552326770905  appliances.environment.water_heater\n",
       "2         2053013559792632471           furniture.living_room.sofa\n",
       "3         2053013558920217191                   computers.notebook\n",
       "4         2053013555631882655               electronics.smartphone\n",
       "...                       ...                                  ...\n",
       "42448759  2053013560530830019             electronics.camera.video\n",
       "42448760  2053013554994348409                                empty\n",
       "42448761  2053013553970938175              auto.accessories.player\n",
       "42448762  2053013561579406073                   electronics.clocks\n",
       "42448763  2053013557166998015                                empty\n",
       "\n",
       "[42448764 rows x 2 columns]"
      ]
     },
     "execution_count": 40,
     "metadata": {},
     "output_type": "execute_result"
    }
   ],
   "source": [
    "cpy"
   ]
  },
  {
   "cell_type": "markdown",
   "metadata": {},
   "source": [
    "### 카테고리 컬럼을 3개의 컬럼으로 분할"
   ]
  },
  {
   "cell_type": "code",
   "execution_count": 41,
   "metadata": {},
   "outputs": [],
   "source": [
    "# 카테고리 코드를 '.'을 기준으로 스플릿\n",
    "li_category = []\n",
    "for i in range(len(cpy)):\n",
    "    li_category.append(cpy['category_code'].iloc[i].split('.'))\n"
   ]
  },
  {
   "cell_type": "code",
   "execution_count": 42,
   "metadata": {},
   "outputs": [],
   "source": [
    "# 1분류 2분류 3분류 각각 분할해서 리스트로 저장\n",
    "cat_first = []\n",
    "cat_second = []\n",
    "cat_third = []\n",
    "for i in li_category:\n",
    "    cat_first.append(i[0])\n",
    "    try:\n",
    "        cat_second.append(i[1])\n",
    "    except:\n",
    "        cat_second.append(i[0])\n",
    "        cat_third.append(i[0])\n",
    "        continue\n",
    "    try:\n",
    "        cat_third.append(i[2])\n",
    "    except:\n",
    "        cat_third.append(i[1])"
   ]
  },
  {
   "cell_type": "code",
   "execution_count": 43,
   "metadata": {},
   "outputs": [],
   "source": [
    "dataset['first_level'] = cat_first\n",
    "dataset['second_level'] = cat_second\n",
    "dataset['third_level'] = cat_third"
   ]
  },
  {
   "cell_type": "markdown",
   "metadata": {},
   "source": [
    "---"
   ]
  },
  {
   "cell_type": "markdown",
   "metadata": {},
   "source": [
    "# 기타 전처리"
   ]
  },
  {
   "cell_type": "markdown",
   "metadata": {},
   "source": [
    "## user_session 간소화"
   ]
  },
  {
   "cell_type": "code",
   "execution_count": 46,
   "metadata": {},
   "outputs": [],
   "source": [
    "cpy = dataset['user_session'].copy()"
   ]
  },
  {
   "cell_type": "code",
   "execution_count": 45,
   "metadata": {},
   "outputs": [
    {
     "data": {
      "text/plain": [
       "'a032dfed738'"
      ]
     },
     "execution_count": 45,
     "metadata": {},
     "output_type": "execute_result"
    }
   ],
   "source": [
    "cpy[0][-12:-1]"
   ]
  },
  {
   "cell_type": "markdown",
   "metadata": {},
   "source": [
    "* 뒤의 11자리만 추출"
   ]
  },
  {
   "cell_type": "code",
   "execution_count": 47,
   "metadata": {},
   "outputs": [],
   "source": [
    "cp1 = cpy.copy().apply(lambda x: x[-12:-1])"
   ]
  },
  {
   "cell_type": "code",
   "execution_count": 18,
   "metadata": {},
   "outputs": [
    {
     "data": {
      "text/plain": [
       "9244421"
      ]
     },
     "execution_count": 18,
     "metadata": {},
     "output_type": "execute_result"
    }
   ],
   "source": [
    "cpy.nunique()"
   ]
  },
  {
   "cell_type": "code",
   "execution_count": 19,
   "metadata": {},
   "outputs": [
    {
     "data": {
      "text/plain": [
       "9244418"
      ]
     },
     "execution_count": 19,
     "metadata": {},
     "output_type": "execute_result"
    }
   ],
   "source": [
    "cp1.nunique()"
   ]
  },
  {
   "cell_type": "markdown",
   "metadata": {},
   "source": [
    "* 고유값의 개수가 일치하지않음"
   ]
  },
  {
   "cell_type": "markdown",
   "metadata": {},
   "source": [
    "* 11자리 포함 뒤의 2자리 추가"
   ]
  },
  {
   "cell_type": "code",
   "execution_count": 20,
   "metadata": {},
   "outputs": [
    {
     "data": {
      "text/plain": [
       "'23-a032dfed738'"
      ]
     },
     "execution_count": 20,
     "metadata": {},
     "output_type": "execute_result"
    }
   ],
   "source": [
    "# cpy[0][-15:-1]"
   ]
  },
  {
   "cell_type": "code",
   "execution_count": 48,
   "metadata": {},
   "outputs": [],
   "source": [
    "cp1 = cpy.copy().apply(lambda x: x[-15:-1])"
   ]
  },
  {
   "cell_type": "code",
   "execution_count": 22,
   "metadata": {},
   "outputs": [
    {
     "data": {
      "text/plain": [
       "9244421"
      ]
     },
     "execution_count": 22,
     "metadata": {},
     "output_type": "execute_result"
    }
   ],
   "source": [
    "# cp.nunique()"
   ]
  },
  {
   "cell_type": "code",
   "execution_count": 23,
   "metadata": {},
   "outputs": [
    {
     "data": {
      "text/plain": [
       "9244421"
      ]
     },
     "execution_count": 23,
     "metadata": {},
     "output_type": "execute_result"
    }
   ],
   "source": [
    "# cp1.nunique()"
   ]
  },
  {
   "cell_type": "markdown",
   "metadata": {},
   "source": [
    "* 고유값 개수가 일치하므로 대체해도 될 듯"
   ]
  },
  {
   "cell_type": "code",
   "execution_count": 49,
   "metadata": {},
   "outputs": [],
   "source": [
    "dataset['user_session'] = cp1"
   ]
  },
  {
   "cell_type": "code",
   "execution_count": 25,
   "metadata": {},
   "outputs": [
    {
     "data": {
      "text/plain": [
       "0           23-a032dfed738\n",
       "1           57-6336556b0fc\n",
       "2           95-cf8e6e792ca\n",
       "3           f3-13c02c18c71\n",
       "4           b4-8cec9ff8b80\n",
       "                 ...      \n",
       "42448759    9c-18bb5b38519\n",
       "42448760    f1-16fc1a060ed\n",
       "42448761    f7-961bcb4719c\n",
       "42448762    9d-046356a5a20\n",
       "42448763    d6-fa77f14cefd\n",
       "Name: user_session, Length: 42448764, dtype: object"
      ]
     },
     "execution_count": 25,
     "metadata": {},
     "output_type": "execute_result"
    }
   ],
   "source": [
    "# dataset['user_session']"
   ]
  },
  {
   "cell_type": "markdown",
   "metadata": {},
   "source": [
    "## time을 date와 time으로 분리"
   ]
  },
  {
   "cell_type": "code",
   "execution_count": 50,
   "metadata": {},
   "outputs": [
    {
     "data": {
      "text/html": [
       "<div>\n",
       "<style scoped>\n",
       "    .dataframe tbody tr th:only-of-type {\n",
       "        vertical-align: middle;\n",
       "    }\n",
       "\n",
       "    .dataframe tbody tr th {\n",
       "        vertical-align: top;\n",
       "    }\n",
       "\n",
       "    .dataframe thead th {\n",
       "        text-align: right;\n",
       "    }\n",
       "</style>\n",
       "<table border=\"1\" class=\"dataframe\">\n",
       "  <thead>\n",
       "    <tr style=\"text-align: right;\">\n",
       "      <th></th>\n",
       "      <th>event_time</th>\n",
       "      <th>event_type</th>\n",
       "      <th>product_id</th>\n",
       "      <th>category_id</th>\n",
       "      <th>category_code</th>\n",
       "      <th>brand</th>\n",
       "      <th>price</th>\n",
       "      <th>user_id</th>\n",
       "      <th>user_session</th>\n",
       "      <th>first_level</th>\n",
       "      <th>second_level</th>\n",
       "      <th>third_level</th>\n",
       "    </tr>\n",
       "  </thead>\n",
       "  <tbody>\n",
       "    <tr>\n",
       "      <th>0</th>\n",
       "      <td>2019-10-01 00:00:00 UTC</td>\n",
       "      <td>view</td>\n",
       "      <td>44600062</td>\n",
       "      <td>2103807459595387724</td>\n",
       "      <td>NaN</td>\n",
       "      <td>shiseido</td>\n",
       "      <td>35.79</td>\n",
       "      <td>541312140</td>\n",
       "      <td>23-a032dfed738</td>\n",
       "      <td>empty</td>\n",
       "      <td>empty</td>\n",
       "      <td>empty</td>\n",
       "    </tr>\n",
       "    <tr>\n",
       "      <th>1</th>\n",
       "      <td>2019-10-01 00:00:00 UTC</td>\n",
       "      <td>view</td>\n",
       "      <td>3900821</td>\n",
       "      <td>2053013552326770905</td>\n",
       "      <td>appliances.environment.water_heater</td>\n",
       "      <td>aqua</td>\n",
       "      <td>33.20</td>\n",
       "      <td>554748717</td>\n",
       "      <td>57-6336556b0fc</td>\n",
       "      <td>appliances</td>\n",
       "      <td>environment</td>\n",
       "      <td>water_heater</td>\n",
       "    </tr>\n",
       "    <tr>\n",
       "      <th>2</th>\n",
       "      <td>2019-10-01 00:00:01 UTC</td>\n",
       "      <td>view</td>\n",
       "      <td>17200506</td>\n",
       "      <td>2053013559792632471</td>\n",
       "      <td>furniture.living_room.sofa</td>\n",
       "      <td>etc</td>\n",
       "      <td>543.10</td>\n",
       "      <td>519107250</td>\n",
       "      <td>95-cf8e6e792ca</td>\n",
       "      <td>furniture</td>\n",
       "      <td>living_room</td>\n",
       "      <td>sofa</td>\n",
       "    </tr>\n",
       "    <tr>\n",
       "      <th>3</th>\n",
       "      <td>2019-10-01 00:00:01 UTC</td>\n",
       "      <td>view</td>\n",
       "      <td>1307067</td>\n",
       "      <td>2053013558920217191</td>\n",
       "      <td>computers.notebook</td>\n",
       "      <td>lenovo</td>\n",
       "      <td>251.74</td>\n",
       "      <td>550050854</td>\n",
       "      <td>f3-13c02c18c71</td>\n",
       "      <td>computers</td>\n",
       "      <td>notebook</td>\n",
       "      <td>notebook</td>\n",
       "    </tr>\n",
       "    <tr>\n",
       "      <th>4</th>\n",
       "      <td>2019-10-01 00:00:04 UTC</td>\n",
       "      <td>view</td>\n",
       "      <td>1004237</td>\n",
       "      <td>2053013555631882655</td>\n",
       "      <td>electronics.smartphone</td>\n",
       "      <td>apple</td>\n",
       "      <td>1081.98</td>\n",
       "      <td>535871217</td>\n",
       "      <td>b4-8cec9ff8b80</td>\n",
       "      <td>electronics</td>\n",
       "      <td>smartphone</td>\n",
       "      <td>smartphone</td>\n",
       "    </tr>\n",
       "    <tr>\n",
       "      <th>...</th>\n",
       "      <td>...</td>\n",
       "      <td>...</td>\n",
       "      <td>...</td>\n",
       "      <td>...</td>\n",
       "      <td>...</td>\n",
       "      <td>...</td>\n",
       "      <td>...</td>\n",
       "      <td>...</td>\n",
       "      <td>...</td>\n",
       "      <td>...</td>\n",
       "      <td>...</td>\n",
       "      <td>...</td>\n",
       "    </tr>\n",
       "    <tr>\n",
       "      <th>42448759</th>\n",
       "      <td>2019-10-31 23:59:58 UTC</td>\n",
       "      <td>view</td>\n",
       "      <td>2300275</td>\n",
       "      <td>2053013560530830019</td>\n",
       "      <td>electronics.camera.video</td>\n",
       "      <td>gopro</td>\n",
       "      <td>527.40</td>\n",
       "      <td>537931532</td>\n",
       "      <td>9c-18bb5b38519</td>\n",
       "      <td>electronics</td>\n",
       "      <td>camera</td>\n",
       "      <td>video</td>\n",
       "    </tr>\n",
       "    <tr>\n",
       "      <th>42448760</th>\n",
       "      <td>2019-10-31 23:59:58 UTC</td>\n",
       "      <td>view</td>\n",
       "      <td>10800172</td>\n",
       "      <td>2053013554994348409</td>\n",
       "      <td>NaN</td>\n",
       "      <td>redmond</td>\n",
       "      <td>61.75</td>\n",
       "      <td>527322328</td>\n",
       "      <td>f1-16fc1a060ed</td>\n",
       "      <td>empty</td>\n",
       "      <td>empty</td>\n",
       "      <td>empty</td>\n",
       "    </tr>\n",
       "    <tr>\n",
       "      <th>42448761</th>\n",
       "      <td>2019-10-31 23:59:58 UTC</td>\n",
       "      <td>view</td>\n",
       "      <td>5701038</td>\n",
       "      <td>2053013553970938175</td>\n",
       "      <td>auto.accessories.player</td>\n",
       "      <td>kenwood</td>\n",
       "      <td>128.70</td>\n",
       "      <td>566280422</td>\n",
       "      <td>f7-961bcb4719c</td>\n",
       "      <td>auto</td>\n",
       "      <td>accessories</td>\n",
       "      <td>player</td>\n",
       "    </tr>\n",
       "    <tr>\n",
       "      <th>42448762</th>\n",
       "      <td>2019-10-31 23:59:59 UTC</td>\n",
       "      <td>view</td>\n",
       "      <td>21407424</td>\n",
       "      <td>2053013561579406073</td>\n",
       "      <td>electronics.clocks</td>\n",
       "      <td>tissot</td>\n",
       "      <td>689.85</td>\n",
       "      <td>513118352</td>\n",
       "      <td>9d-046356a5a20</td>\n",
       "      <td>electronics</td>\n",
       "      <td>clocks</td>\n",
       "      <td>clocks</td>\n",
       "    </tr>\n",
       "    <tr>\n",
       "      <th>42448763</th>\n",
       "      <td>2019-10-31 23:59:59 UTC</td>\n",
       "      <td>view</td>\n",
       "      <td>13300120</td>\n",
       "      <td>2053013557166998015</td>\n",
       "      <td>NaN</td>\n",
       "      <td>swisshome</td>\n",
       "      <td>155.73</td>\n",
       "      <td>525266378</td>\n",
       "      <td>d6-fa77f14cefd</td>\n",
       "      <td>empty</td>\n",
       "      <td>empty</td>\n",
       "      <td>empty</td>\n",
       "    </tr>\n",
       "  </tbody>\n",
       "</table>\n",
       "<p>42448764 rows × 12 columns</p>\n",
       "</div>"
      ],
      "text/plain": [
       "                       event_time event_type  product_id          category_id  \\\n",
       "0         2019-10-01 00:00:00 UTC       view    44600062  2103807459595387724   \n",
       "1         2019-10-01 00:00:00 UTC       view     3900821  2053013552326770905   \n",
       "2         2019-10-01 00:00:01 UTC       view    17200506  2053013559792632471   \n",
       "3         2019-10-01 00:00:01 UTC       view     1307067  2053013558920217191   \n",
       "4         2019-10-01 00:00:04 UTC       view     1004237  2053013555631882655   \n",
       "...                           ...        ...         ...                  ...   \n",
       "42448759  2019-10-31 23:59:58 UTC       view     2300275  2053013560530830019   \n",
       "42448760  2019-10-31 23:59:58 UTC       view    10800172  2053013554994348409   \n",
       "42448761  2019-10-31 23:59:58 UTC       view     5701038  2053013553970938175   \n",
       "42448762  2019-10-31 23:59:59 UTC       view    21407424  2053013561579406073   \n",
       "42448763  2019-10-31 23:59:59 UTC       view    13300120  2053013557166998015   \n",
       "\n",
       "                                category_code      brand    price    user_id  \\\n",
       "0                                         NaN   shiseido    35.79  541312140   \n",
       "1         appliances.environment.water_heater       aqua    33.20  554748717   \n",
       "2                  furniture.living_room.sofa        etc   543.10  519107250   \n",
       "3                          computers.notebook     lenovo   251.74  550050854   \n",
       "4                      electronics.smartphone      apple  1081.98  535871217   \n",
       "...                                       ...        ...      ...        ...   \n",
       "42448759             electronics.camera.video      gopro   527.40  537931532   \n",
       "42448760                                  NaN    redmond    61.75  527322328   \n",
       "42448761              auto.accessories.player    kenwood   128.70  566280422   \n",
       "42448762                   electronics.clocks     tissot   689.85  513118352   \n",
       "42448763                                  NaN  swisshome   155.73  525266378   \n",
       "\n",
       "            user_session  first_level second_level   third_level  \n",
       "0         23-a032dfed738        empty        empty         empty  \n",
       "1         57-6336556b0fc   appliances  environment  water_heater  \n",
       "2         95-cf8e6e792ca    furniture  living_room          sofa  \n",
       "3         f3-13c02c18c71    computers     notebook      notebook  \n",
       "4         b4-8cec9ff8b80  electronics   smartphone    smartphone  \n",
       "...                  ...          ...          ...           ...  \n",
       "42448759  9c-18bb5b38519  electronics       camera         video  \n",
       "42448760  f1-16fc1a060ed        empty        empty         empty  \n",
       "42448761  f7-961bcb4719c         auto  accessories        player  \n",
       "42448762  9d-046356a5a20  electronics       clocks        clocks  \n",
       "42448763  d6-fa77f14cefd        empty        empty         empty  \n",
       "\n",
       "[42448764 rows x 12 columns]"
      ]
     },
     "execution_count": 50,
     "metadata": {},
     "output_type": "execute_result"
    }
   ],
   "source": [
    "dataset"
   ]
  },
  {
   "cell_type": "code",
   "execution_count": 51,
   "metadata": {},
   "outputs": [],
   "source": [
    "cpy_time = dataset['event_time'].copy()"
   ]
  },
  {
   "cell_type": "code",
   "execution_count": 41,
   "metadata": {},
   "outputs": [
    {
     "data": {
      "text/plain": [
       "'00:00:00'"
      ]
     },
     "execution_count": 41,
     "metadata": {},
     "output_type": "execute_result"
    }
   ],
   "source": [
    "# cop_time[0][11:19]"
   ]
  },
  {
   "cell_type": "code",
   "execution_count": 52,
   "metadata": {},
   "outputs": [],
   "source": [
    "date = [cpy_time[i][:10] for i in range(len(cpy_time))]"
   ]
  },
  {
   "cell_type": "code",
   "execution_count": 53,
   "metadata": {},
   "outputs": [],
   "source": [
    "time = [cpy_time[i][11:19] for i in range(len(cpy_time))]"
   ]
  },
  {
   "cell_type": "code",
   "execution_count": 54,
   "metadata": {},
   "outputs": [],
   "source": [
    "dataset['date'] = date"
   ]
  },
  {
   "cell_type": "code",
   "execution_count": 55,
   "metadata": {},
   "outputs": [],
   "source": [
    "dataset['time'] = time"
   ]
  },
  {
   "cell_type": "markdown",
   "metadata": {},
   "source": [
    "---"
   ]
  },
  {
   "cell_type": "markdown",
   "metadata": {},
   "source": [
    "## 불필요한 컬럼 삭제"
   ]
  },
  {
   "cell_type": "code",
   "execution_count": 56,
   "metadata": {},
   "outputs": [],
   "source": [
    "# 기존 event_time과 category_code 컬럼 삭제\n",
    "dataset.drop(['event_time','category_code'],axis=1,inplace=True)"
   ]
  },
  {
   "cell_type": "code",
   "execution_count": 57,
   "metadata": {},
   "outputs": [
    {
     "data": {
      "text/plain": [
       "event_type      0\n",
       "product_id      0\n",
       "category_id     0\n",
       "brand           0\n",
       "price           0\n",
       "user_id         0\n",
       "user_session    0\n",
       "first_level     0\n",
       "second_level    0\n",
       "third_level     0\n",
       "date            0\n",
       "time            0\n",
       "dtype: int64"
      ]
     },
     "execution_count": 57,
     "metadata": {},
     "output_type": "execute_result"
    }
   ],
   "source": [
    "dataset.isnull().sum()"
   ]
  },
  {
   "cell_type": "code",
   "execution_count": 59,
   "metadata": {},
   "outputs": [],
   "source": [
    "dataset = dataset[['date','time','user_id',\n",
    "'event_type','product_id','category_id',\n",
    "'first_level','second_level','third_level',\n",
    "'brand','price','user_session']]"
   ]
  },
  {
   "cell_type": "code",
   "execution_count": 60,
   "metadata": {},
   "outputs": [
    {
     "data": {
      "text/html": [
       "<div>\n",
       "<style scoped>\n",
       "    .dataframe tbody tr th:only-of-type {\n",
       "        vertical-align: middle;\n",
       "    }\n",
       "\n",
       "    .dataframe tbody tr th {\n",
       "        vertical-align: top;\n",
       "    }\n",
       "\n",
       "    .dataframe thead th {\n",
       "        text-align: right;\n",
       "    }\n",
       "</style>\n",
       "<table border=\"1\" class=\"dataframe\">\n",
       "  <thead>\n",
       "    <tr style=\"text-align: right;\">\n",
       "      <th></th>\n",
       "      <th>date</th>\n",
       "      <th>time</th>\n",
       "      <th>user_id</th>\n",
       "      <th>event_type</th>\n",
       "      <th>product_id</th>\n",
       "      <th>category_id</th>\n",
       "      <th>first_level</th>\n",
       "      <th>second_level</th>\n",
       "      <th>third_level</th>\n",
       "      <th>brand</th>\n",
       "      <th>price</th>\n",
       "      <th>user_session</th>\n",
       "    </tr>\n",
       "  </thead>\n",
       "  <tbody>\n",
       "    <tr>\n",
       "      <th>0</th>\n",
       "      <td>2019-10-01</td>\n",
       "      <td>00:00:00</td>\n",
       "      <td>541312140</td>\n",
       "      <td>view</td>\n",
       "      <td>44600062</td>\n",
       "      <td>2103807459595387724</td>\n",
       "      <td>empty</td>\n",
       "      <td>empty</td>\n",
       "      <td>empty</td>\n",
       "      <td>shiseido</td>\n",
       "      <td>35.79</td>\n",
       "      <td>23-a032dfed738</td>\n",
       "    </tr>\n",
       "    <tr>\n",
       "      <th>1</th>\n",
       "      <td>2019-10-01</td>\n",
       "      <td>00:00:00</td>\n",
       "      <td>554748717</td>\n",
       "      <td>view</td>\n",
       "      <td>3900821</td>\n",
       "      <td>2053013552326770905</td>\n",
       "      <td>appliances</td>\n",
       "      <td>environment</td>\n",
       "      <td>water_heater</td>\n",
       "      <td>aqua</td>\n",
       "      <td>33.20</td>\n",
       "      <td>57-6336556b0fc</td>\n",
       "    </tr>\n",
       "    <tr>\n",
       "      <th>2</th>\n",
       "      <td>2019-10-01</td>\n",
       "      <td>00:00:01</td>\n",
       "      <td>519107250</td>\n",
       "      <td>view</td>\n",
       "      <td>17200506</td>\n",
       "      <td>2053013559792632471</td>\n",
       "      <td>furniture</td>\n",
       "      <td>living_room</td>\n",
       "      <td>sofa</td>\n",
       "      <td>etc</td>\n",
       "      <td>543.10</td>\n",
       "      <td>95-cf8e6e792ca</td>\n",
       "    </tr>\n",
       "    <tr>\n",
       "      <th>3</th>\n",
       "      <td>2019-10-01</td>\n",
       "      <td>00:00:01</td>\n",
       "      <td>550050854</td>\n",
       "      <td>view</td>\n",
       "      <td>1307067</td>\n",
       "      <td>2053013558920217191</td>\n",
       "      <td>computers</td>\n",
       "      <td>notebook</td>\n",
       "      <td>notebook</td>\n",
       "      <td>lenovo</td>\n",
       "      <td>251.74</td>\n",
       "      <td>f3-13c02c18c71</td>\n",
       "    </tr>\n",
       "    <tr>\n",
       "      <th>4</th>\n",
       "      <td>2019-10-01</td>\n",
       "      <td>00:00:04</td>\n",
       "      <td>535871217</td>\n",
       "      <td>view</td>\n",
       "      <td>1004237</td>\n",
       "      <td>2053013555631882655</td>\n",
       "      <td>electronics</td>\n",
       "      <td>smartphone</td>\n",
       "      <td>smartphone</td>\n",
       "      <td>apple</td>\n",
       "      <td>1081.98</td>\n",
       "      <td>b4-8cec9ff8b80</td>\n",
       "    </tr>\n",
       "  </tbody>\n",
       "</table>\n",
       "</div>"
      ],
      "text/plain": [
       "         date      time    user_id event_type  product_id  \\\n",
       "0  2019-10-01  00:00:00  541312140       view    44600062   \n",
       "1  2019-10-01  00:00:00  554748717       view     3900821   \n",
       "2  2019-10-01  00:00:01  519107250       view    17200506   \n",
       "3  2019-10-01  00:00:01  550050854       view     1307067   \n",
       "4  2019-10-01  00:00:04  535871217       view     1004237   \n",
       "\n",
       "           category_id  first_level second_level   third_level     brand  \\\n",
       "0  2103807459595387724        empty        empty         empty  shiseido   \n",
       "1  2053013552326770905   appliances  environment  water_heater      aqua   \n",
       "2  2053013559792632471    furniture  living_room          sofa       etc   \n",
       "3  2053013558920217191    computers     notebook      notebook    lenovo   \n",
       "4  2053013555631882655  electronics   smartphone    smartphone     apple   \n",
       "\n",
       "     price    user_session  \n",
       "0    35.79  23-a032dfed738  \n",
       "1    33.20  57-6336556b0fc  \n",
       "2   543.10  95-cf8e6e792ca  \n",
       "3   251.74  f3-13c02c18c71  \n",
       "4  1081.98  b4-8cec9ff8b80  "
      ]
     },
     "execution_count": 60,
     "metadata": {},
     "output_type": "execute_result"
    }
   ],
   "source": [
    "dataset.head()"
   ]
  },
  {
   "cell_type": "markdown",
   "metadata": {},
   "source": [
    "---"
   ]
  },
  {
   "cell_type": "markdown",
   "metadata": {},
   "source": [
    "# 경량화"
   ]
  },
  {
   "cell_type": "code",
   "execution_count": 61,
   "metadata": {},
   "outputs": [],
   "source": [
    "import random\n",
    "random.seed(17)"
   ]
  },
  {
   "cell_type": "code",
   "execution_count": 62,
   "metadata": {},
   "outputs": [],
   "source": [
    "user_id_list = dataset['user_id'].value_counts().index.to_list()"
   ]
  },
  {
   "cell_type": "code",
   "execution_count": 63,
   "metadata": {},
   "outputs": [],
   "source": [
    "user_id_list_ex = random.sample(user_id_list,k=1000000)"
   ]
  },
  {
   "cell_type": "code",
   "execution_count": 64,
   "metadata": {},
   "outputs": [],
   "source": [
    "df_ex = dataset[dataset['user_id'].isin(user_id_list_ex)]"
   ]
  },
  {
   "cell_type": "code",
   "execution_count": 66,
   "metadata": {},
   "outputs": [],
   "source": [
    "df_ex.reset_index(inplace=True,drop=True)"
   ]
  },
  {
   "cell_type": "code",
   "execution_count": 68,
   "metadata": {},
   "outputs": [],
   "source": [
    "df_ex.to_parquet(data_url+'dataset.parquet')"
   ]
  },
  {
   "cell_type": "code",
   "execution_count": 31,
   "metadata": {},
   "outputs": [],
   "source": [
    "# df_ex.to_csv(data_url + 'dataset_light.csv', index=False)"
   ]
  }
 ],
 "metadata": {
  "kernelspec": {
   "display_name": "Python 3.9.12 ('base')",
   "language": "python",
   "name": "python3"
  },
  "language_info": {
   "codemirror_mode": {
    "name": "ipython",
    "version": 3
   },
   "file_extension": ".py",
   "mimetype": "text/x-python",
   "name": "python",
   "nbconvert_exporter": "python",
   "pygments_lexer": "ipython3",
   "version": "3.9.12"
  },
  "orig_nbformat": 4,
  "vscode": {
   "interpreter": {
    "hash": "09fd92f4917d9b2c8fe0c688cf94d0da41e45b219826cb9ec1800209110ff61a"
   }
  }
 },
 "nbformat": 4,
 "nbformat_minor": 2
}
